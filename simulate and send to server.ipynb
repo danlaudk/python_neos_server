{
 "cells": [
  {
   "cell_type": "code",
   "execution_count": 3,
   "metadata": {},
   "outputs": [],
   "source": [
    "# prepare for simulation\n",
    "\n",
    "# user-settable params for the sim\n",
    "numstudents = 200\n",
    "\n",
    "MaxTaskGroupSize = 25\n",
    "MinTaskGroupSize = 12\n",
    "TaskGroupCount = 8 # not including the task group that is pup-only\n",
    "deeppredcount = 5 # not used in sim\n",
    "maxsk = 21 #not used in sim\n",
    "numskills = 30 \n",
    "numtasks = 6\n",
    "numSkillsonPL = 8\n",
    "maxPLsPerStud = 20\n",
    "maxSkillsPerPL = 8 # not used in sim\n",
    "uniquetasks = [i for i in range(numtasks)]\n",
    "uniqueskills = [i for i in range(numskills)]\n",
    "uniquestudents = [i for i in range(1,numstudents+1)]\n",
    "\n",
    "\n",
    "import inspect\n",
    "import numpy as np\n",
    "import pandas as pd\n",
    "\n",
    "# function Parameter().genstr() generates the appropriate string of parameter data for playlist-specific scores\n",
    "class Parameter:\n",
    "    def __init__(self, strParameter):\n",
    "        self.strParameter = strParameter\n",
    "        self.studlist = []\n",
    "    def genstr(self):\n",
    "        str1 = ' '\n",
    "        # cases. all generate matrix (2-d array) of uniform random numbers\n",
    "        if self.strParameter=='IndividualPlaylistQualityScore':\n",
    "            randomarray = np.random.rand(numstudents, maxPLsPerStud)\n",
    "        elif self.strParameter=='PlaylistQualityForTask':\n",
    "            randomarray = np.random.rand(numstudents, maxPLsPerStud)\n",
    "        elif self.strParameter=='IsValidForTaskGroup':\n",
    "            randomarray = np.random.binomial(1,0.8, size=(numstudents, maxPLsPerStud))\n",
    "        elif self.strParameter=='TaskPredecessorCount':\n",
    "            randomarray = np.random.random_integers(0,5, size=(numstudents, maxPLsPerStud))\n",
    "        elif self.strParameter=='TaskPredecessorCount':\n",
    "            randomarray = np.random.random_integers(0,5, size=(numstudents, maxPLsPerStud))\n",
    "        elif self.strParameter=='rollover':\n",
    "            randomarray = np.random.rand(numstudents, maxPLsPerStud)/2.2 # uniform rannge in 0 to 0.45\n",
    "        elif self.strParameter=='listtasks':\n",
    "            randomarray = np.random.random_integers(0,numtasks, size=(numstudents, maxPLsPerStud)) \n",
    "        \n",
    "        # massage into string: numstudent lines of numPL entries     \n",
    "        for i, elem in enumerate(uniquestudents): #iter on jsut 1 and 2 in addition to 0 and 3\n",
    "            studentname= elem\n",
    "            str1 = str1 + '\\n '   + str(studentname) + '  ' + ' '.join(str(randomarray[i][p]) for p in range(maxPLsPerStud) ) #[sk][i][p]\n",
    "\n",
    "        if self.strParameter=='listtasks':\n",
    "            self.strParameter = 'playlist_p_for_i_istask'  #playlist is task what is named differently \n",
    "        \n",
    "        return '\\nparam  '  +self.strParameter+ ' : '  +  ' '.join(str(p) for p in range(maxPLsPerStud)) + ' :=  ' + str1  + ' ;'"
   ]
  },
  {
   "cell_type": "code",
   "execution_count": 5,
   "metadata": {},
   "outputs": [],
   "source": [
    "# SIMULATION\n",
    "# strings near the base of this cell lists the data generated, split into sets and the data/scores\n",
    "\n",
    "from random import randint, randrange, random, uniform, normalvariate, shuffle, seed\n",
    "import numpy, numpy.random as rand\n",
    "from datetime import datetime\n",
    "from operator import div\n",
    "\n",
    "\n",
    "seed(12345)\n",
    "\n",
    "strTG = 'set TASKGROUP := '+ ' '.join(str(i) for i in range(TaskGroupCount+1)) + ' ;' #bc don't include TG0 in the count\n",
    "strMinMaxTGsize = 'param MAXTASKGROUPSIZE := '+ str(MaxTaskGroupSize) + ' ; \\nparam MINTASKGROUPSIZE := '+ str(MinTaskGroupSize)  + ' ;'\n",
    "\n",
    "## Generate data for playlist-specific scores\n",
    "strIPQSscore = Parameter('IndividualPlaylistQualityScore').genstr()\n",
    "strPQFTscore = Parameter('PlaylistQualityForTask').genstr()\n",
    "strIsValidscore = Parameter('IsValidForTaskGroup').genstr()\n",
    "strTaskPred = Parameter('TaskPredecessorCount').genstr()\n",
    "#strExpTag = Parameter('PlaylistExperienceTag').genstr()\n",
    "strRollover = Parameter('rollover').genstr()\n",
    "\n",
    "# gen data for NumSkillsonstudentPL and strNumSkillsonPL : this is a weird way to do things\n",
    "def makeStringFromTuple(tuple1):\n",
    "    return ' '+ str(tuple1[0])+ ' '+str(tuple1[1])+ '  '\n",
    "zipped= zip(uniquestudents,[numSkillsonPL for i in range(numstudents)])\n",
    "strNumSkillsonstudentPL = ''.join(makeStringFromTuple(i) for i in zipped)\n",
    "strNumSkillsonstudentPL = 'param: STUDENT : numSkillsonstudentPL := ' + strNumSkillsonstudentPL + ' ;'\n",
    "strNumSkillsonPL = 'param numSkillsonPL:=  ' + str(numSkillsonPL) + ' ;' \n",
    "\n",
    "# TASK that is attached to each playlist\n",
    "strAllTasks = Parameter('listtasks').genstr()\n",
    "\n",
    "## TASKS : the set of tasks\n",
    "uniquetasks.sort()\n",
    "strSetTasks = 'set TASK := '+' '.join(str(i) for i in uniquetasks) + ' ;'\n",
    "\n",
    "\n",
    "## SKILLS : the set of skills\n",
    "uniqueskills.sort()\n",
    "strSetSkills = 'set SKILL :=  '+' '.join(str(j+1) for j in uniqueskills) + '  ;' # starts 1. zero is reserved for no nth skill\n",
    "\n",
    "## PLAYLIST indexes (ie up to maxPLsPerStud)\n",
    "strPLcommonIndex = 'set PLCOMMONINDEX := ' + ' '.join(str(p) for p in range(maxPLsPerStud)) + ' ;'\n",
    "\n",
    "### end SETs\n",
    "\n",
    "## generate the skills that comprise each PLAYLIST\n",
    "allplaylists = []\n",
    "for i,elem in enumerate(uniquestudents):\n",
    "    studentplaylists = []\n",
    "    for j in range(maxPLsPerStud):\n",
    "        playlist=[j for j in range(numskills)]\n",
    "        np.random.shuffle(playlist)\n",
    "        playlist = playlist[0:numSkillsonPL]\n",
    "        playlist.sort(reverse=True)  # sort descending\n",
    "        studentplaylists.append(playlist)\n",
    "    allplaylists.append(studentplaylists)\n",
    "\n",
    "    ## then convert playlists to string structure\n",
    "# by going first from  list of playlistskills indexed by student then playlist then index ie allplaylists[student][playlistindex][skillindex]\n",
    "# to list of skills by  skillindex then student then playlist ie elemPL[skillindex][student][playlistindex]\n",
    "elemPL = []\n",
    "#for each sk\n",
    "for sk in range(maxSkillsPerPL):\n",
    "    listgivenindex = []\n",
    "    # for each row i(student i)\n",
    "    for i in range(len(allplaylists)): #for numstudents\n",
    "        studlist = []\n",
    "        for p in range(maxPLsPerStud): #for numplaylists, wheter exist or not\n",
    "            try:\n",
    "                studlist.append(allplaylists[i][p][sk])\n",
    "            except IndexError:\n",
    "                studlist.append(0)\n",
    "        listgivenindex.append(studlist)\n",
    "    elemPL.append(listgivenindex)\n",
    "\n",
    "# stringify elemPL\n",
    "strAllSkills = ''\n",
    "for sk in range(maxSkillsPerPL):\n",
    "    str1 = ' '\n",
    "    for i, elem in enumerate(uniquestudents): #iter on jsut 1 and 2 in addition to 0 and 3\n",
    "        studentname= elem\n",
    "        str1 = str1 + '\\n '   + str(studentname) + '  ' + ' '.join(str(elemPL[sk][i][p]) for p in range(maxPLsPerStud))\n",
    "        #param  sk  : 1 2 3 4 :=   followed by many rows of students\n",
    "    strAllSkills =  strAllSkills + '\\nparam  sk' + str(sk+1) + ' : '  +  ' '.join(str(p) for p in range(maxPLsPerStud)) + ' :=  ' + str1  + ' ;'\n",
    "\n",
    "# iterable strings to print\n",
    "strings = [strTG, strMinMaxTGsize, strSetSkills, strSetTasks, strPLcommonIndex, strNumSkillsonstudentPL, strNumSkillsonPL,\n",
    "           strAllSkills, strAllTasks, \n",
    "           strRollover, strIPQSscore , strPQFTscore , strIsValidscore, strTaskPred] # excluded strExpTag\n",
    "\n",
    "# set filename, and write the file\n",
    "fname = 'TGAdata' + str(numstudents) + 'x'+str(numtasks) +'tskx'+str(maxPLsPerStud) +'PLsx'+str(maxSkillsPerPL) +'varPLskills' +' '+ datetime.now().strftime(\"%Y-%m-%d %H:%M\")+ '.txt' #+str(numskillsperPL)+'perPLmenuskills'\n",
    "fname = fname.replace(':','', 3)\n",
    "with open(fname, 'w') as f: # Open 'newfile.txt' for writing  # Open 'newfile.txt' for writing\n",
    "    for string in strings:\n",
    "        f.write(string)           # Here '\\n' means new line\n",
    "        f.write('\\n \\n')"
   ]
  },
  {
   "cell_type": "code",
   "execution_count": 6,
   "metadata": {},
   "outputs": [
    {
     "ename": "OSError",
     "evalue": "[Errno 2] No such file or directory: 'chanan_aggpltaskNoPup.txt'",
     "output_type": "error",
     "traceback": [
      "\u001b[1;31m---------------------------------------------------------------------------\u001b[0m",
      "\u001b[1;31mOSError\u001b[0m                                   Traceback (most recent call last)",
      "\u001b[1;32m<ipython-input-6-c3187e188f5d>\u001b[0m in \u001b[0;36m<module>\u001b[1;34m()\u001b[0m\n\u001b[0;32m     41\u001b[0m     \u001b[1;32mreturn\u001b[0m \u001b[1;36m0\u001b[0m\u001b[1;33m\u001b[0m\u001b[0m\n\u001b[0;32m     42\u001b[0m \u001b[1;31m#\u001b[0m\u001b[1;33m\u001b[0m\u001b[1;33m\u001b[0m\u001b[0m\n\u001b[1;32m---> 43\u001b[1;33m \u001b[0mfilestoxml\u001b[0m\u001b[1;33m(\u001b[0m\u001b[1;33m)\u001b[0m\u001b[1;33m\u001b[0m\u001b[0m\n\u001b[0m\u001b[0;32m     44\u001b[0m \u001b[1;33m\u001b[0m\u001b[0m\n\u001b[0;32m     45\u001b[0m \u001b[1;31m# inspect.getmembers(os.pipe)\u001b[0m\u001b[1;33m\u001b[0m\u001b[1;33m\u001b[0m\u001b[0m\n",
      "\u001b[1;32m<ipython-input-6-c3187e188f5d>\u001b[0m in \u001b[0;36mfilestoxml\u001b[1;34m()\u001b[0m\n\u001b[0;32m     23\u001b[0m     \u001b[1;32mwith\u001b[0m \u001b[0mopen\u001b[0m\u001b[1;33m(\u001b[0m\u001b[0mxmlfname\u001b[0m\u001b[1;33m,\u001b[0m \u001b[1;34m'w'\u001b[0m\u001b[1;33m)\u001b[0m \u001b[1;32mas\u001b[0m \u001b[0mf\u001b[0m\u001b[1;33m:\u001b[0m\u001b[1;33m\u001b[0m\u001b[0m\n\u001b[0;32m     24\u001b[0m         strXMLstart = ('<document> \\n <category>milp</category> \\n <solver>CPLEX</solver> \\n <inputMethod>AMPL</inputMethod> \\n ' +\n\u001b[1;32m---> 25\u001b[1;33m  '<model><![CDATA[ \\n' + filetostring(modelFilename, buffersizemodelfile) + '\\n ]]></model> '  ) # end XMLstart\n\u001b[0m\u001b[0;32m     26\u001b[0m         \u001b[0mf\u001b[0m\u001b[1;33m.\u001b[0m\u001b[0mwrite\u001b[0m\u001b[1;33m(\u001b[0m\u001b[0mstrXMLstart\u001b[0m\u001b[1;33m)\u001b[0m\u001b[1;33m\u001b[0m\u001b[0m\n\u001b[0;32m     27\u001b[0m         \u001b[0mf\u001b[0m\u001b[1;33m.\u001b[0m\u001b[0mwrite\u001b[0m\u001b[1;33m(\u001b[0m\u001b[1;34m'\\n \\n'\u001b[0m\u001b[1;33m)\u001b[0m\u001b[1;33m\u001b[0m\u001b[0m\n",
      "\u001b[1;32m<ipython-input-6-c3187e188f5d>\u001b[0m in \u001b[0;36mfiletostring\u001b[1;34m(strFilename, buffersize)\u001b[0m\n\u001b[0;32m     12\u001b[0m \u001b[1;32mimport\u001b[0m \u001b[0mos\u001b[0m \u001b[1;32mas\u001b[0m \u001b[0mos\u001b[0m\u001b[1;33m\u001b[0m\u001b[0m\n\u001b[0;32m     13\u001b[0m \u001b[1;32mdef\u001b[0m \u001b[0mfiletostring\u001b[0m\u001b[1;33m(\u001b[0m\u001b[0mstrFilename\u001b[0m\u001b[1;33m,\u001b[0m\u001b[0mbuffersize\u001b[0m\u001b[1;33m)\u001b[0m\u001b[1;33m:\u001b[0m\u001b[1;33m\u001b[0m\u001b[0m\n\u001b[1;32m---> 14\u001b[1;33m     \u001b[0mfd\u001b[0m \u001b[1;33m=\u001b[0m \u001b[0mos\u001b[0m\u001b[1;33m.\u001b[0m\u001b[0mopen\u001b[0m\u001b[1;33m(\u001b[0m\u001b[0mstrFilename\u001b[0m\u001b[1;33m,\u001b[0m \u001b[0mos\u001b[0m\u001b[1;33m.\u001b[0m\u001b[0mO_RDWR\u001b[0m\u001b[1;33m)\u001b[0m\u001b[1;33m\u001b[0m\u001b[0m\n\u001b[0m\u001b[0;32m     15\u001b[0m     \u001b[0mstring\u001b[0m \u001b[1;33m=\u001b[0m \u001b[0mos\u001b[0m\u001b[1;33m.\u001b[0m\u001b[0mread\u001b[0m\u001b[1;33m(\u001b[0m\u001b[0mfd\u001b[0m\u001b[1;33m,\u001b[0m \u001b[0mbuffersize\u001b[0m\u001b[1;33m)\u001b[0m\u001b[1;33m\u001b[0m\u001b[0m\n\u001b[0;32m     16\u001b[0m     \u001b[0mos\u001b[0m\u001b[1;33m.\u001b[0m\u001b[0mclose\u001b[0m\u001b[1;33m(\u001b[0m\u001b[0mfd\u001b[0m\u001b[1;33m)\u001b[0m\u001b[1;33m\u001b[0m\u001b[0m\n",
      "\u001b[1;31mOSError\u001b[0m: [Errno 2] No such file or directory: 'chanan_aggpltaskNoPup.txt'"
     ]
    }
   ],
   "source": [
    "# generate xml file with name xmlfname,  based on the below 3 files\n",
    "\n",
    "modelFilename = \"chanan_aggpltaskNoPup.txt\"\n",
    "dataFilename = fname\n",
    "commandsFilename = \"commandsOps.txt\"\n",
    "\n",
    "xmlfname = 'xmlsimfile200.xml' \n",
    "# fname = 'xmlfile' + datetime.now().strftime(\"%Y-%m-%d %H:%M\")+ '.xml'\n",
    "# fname = fname.replace(':','', 3)\n",
    "\n",
    "\n",
    "import os as os\n",
    "def filetostring(strFilename,buffersize):\n",
    "    fd = os.open(strFilename, os.O_RDWR)\n",
    "    string = os.read(fd, buffersize)\n",
    "    os.close(fd)\n",
    "    return string\n",
    "def filestoxml():\n",
    "    buffersizemodelfile = 20000\n",
    "    buffersizedatafile = 2500000\n",
    "    buffersizecommandsfile = 10000\n",
    "    \n",
    "    with open(xmlfname, 'w') as f:\n",
    "        strXMLstart = ('<document> \\n <category>milp</category> \\n <solver>CPLEX</solver> \\n <inputMethod>AMPL</inputMethod> \\n ' +\n",
    " '<model><![CDATA[ \\n' + filetostring(modelFilename, buffersizemodelfile) + '\\n ]]></model> '  ) # end XMLstart\n",
    "        f.write(strXMLstart)\n",
    "        f.write('\\n \\n') \n",
    "    \n",
    "        strXMLdata = ('<data><![CDATA[ \\n'  + filetostring(dataFilename,buffersizedatafile)  + '\\n ]]></data> ' )\n",
    "        f.write(strXMLdata)\n",
    "        f.write('\\n \\n') \n",
    "        \n",
    "        strXMLend = ('<commands><![CDATA[ \\n' + filetostring(commandsFilename,buffersizecommandsfile)  + '\\n ]]></commands>  ' )\n",
    "        f.write(strXMLend)\n",
    "        f.write('\\n \\n') \n",
    "        \n",
    "        \n",
    "        strXMLemail = ('<email> dlau@newclassrooms.org </email> \\n </document> ' )\n",
    "        f.write(strXMLemail)\n",
    "        f.write('\\n \\n') \n",
    "    return 0\n",
    "#\n",
    "filestoxml()\n",
    "\n",
    "# inspect.getmembers(os.pipe)"
   ]
  },
  {
   "cell_type": "code",
   "execution_count": null,
   "metadata": {},
   "outputs": [],
   "source": [
    "%run NeosClient.py      FILENAME.xml\n",
    "# run the xml file that was generated above\n",
    "# default setting in commandsop.txt is for 5minutes, which can only do 20 students"
   ]
  },
  {
   "cell_type": "code",
   "execution_count": null,
   "metadata": {},
   "outputs": [
    {
     "name": "stdout",
     "output_type": "stream",
     "text": [
      "JobNumber = 3970817 \n",
      "Job 3970817 dispatched\n",
      "password: cSGwDgqj\n",
      "---------- Begin Solver Output -----------\n",
      "Job submitted to NEOS HTCondor pool.\n"
     ]
    }
   ],
   "source": [
    "%run NeosClient.py xmlsimfile200.xml\n",
    "# 600 couldn do in 10min; feas only (noobj objno=0) can't do in 3600 , can't do iis ,  1200 ,no iis mintaskgroupsize 1"
   ]
  },
  {
   "cell_type": "code",
   "execution_count": null,
   "metadata": {},
   "outputs": [
    {
     "name": "stdout",
     "output_type": "stream",
     "text": [
      "JobNumber = 3970818 \n",
      "Job 3970818 dispatched\n",
      "password: dgNWYpuo\n",
      "---------- Begin Solver Output -----------\n",
      "Job submitted to NEOS HTCondor pool.\n"
     ]
    }
   ],
   "source": [
    "%run NeosClient.py xmlsimfile200.xml\n",
    "# 600 couldn do in 10min; feas only (noobj objno=0) can't do in 3600 ,  7200 to test"
   ]
  },
  {
   "cell_type": "code",
   "execution_count": null,
   "metadata": {},
   "outputs": [
    {
     "name": "stdout",
     "output_type": "stream",
     "text": [
      "JobNumber = 3959738 \n",
      "Job 3959738 dispatched\n",
      "password: tkNSplmr\n",
      "---------- Begin Solver Output -----------\n"
     ]
    }
   ],
   "source": [
    "%run NeosClient.py xmlsimfile80.xml\n",
    "# 1200"
   ]
  },
  {
   "cell_type": "code",
   "execution_count": null,
   "metadata": {},
   "outputs": [
    {
     "name": "stdout",
     "output_type": "stream",
     "text": [
      "JobNumber = 3970419 \n",
      "Job 3970419 dispatched\n",
      "password: UWZaLNzi\n"
     ]
    }
   ],
   "source": [
    "%run NeosClient.py xmlsimfile80.xml\n",
    "# 3600 sec, and the put feas option fpheur=2"
   ]
  },
  {
   "cell_type": "code",
   "execution_count": null,
   "metadata": {},
   "outputs": [],
   "source": [
    "%run NeosClient.py xmlsimfile80.xml\n",
    "# 1200 sec, and the put feas option fpheur=2, 1 = each integer feasible solution 3970510 bobund = 0.2"
   ]
  },
  {
   "cell_type": "code",
   "execution_count": null,
   "metadata": {},
   "outputs": [
    {
     "name": "stdout",
     "output_type": "stream",
     "text": [
      "JobNumber = 3970438 \n",
      "Job 3970438 dispatched\n",
      "password: AvtHqiLQ\n"
     ]
    }
   ],
   "source": [
    "%run NeosClient.py xmlsimfile80.xml\n",
    "# 1200 sec, and feas fpheur=-1 , bound=0.05"
   ]
  },
  {
   "cell_type": "code",
   "execution_count": null,
   "metadata": {},
   "outputs": [
    {
     "name": "stdout",
     "output_type": "stream",
     "text": [
      "JobNumber = 3970439 \n",
      "Job 3970439 dispatched\n",
      "password: cksHKUoX\n"
     ]
    }
   ],
   "source": [
    "%run NeosClient.py xmlsimfile80.xml\n",
    "# 1200 sec, and feas fpheur=1 , bound=0.20"
   ]
  },
  {
   "cell_type": "code",
   "execution_count": null,
   "metadata": {},
   "outputs": [],
   "source": [
    ""
   ]
  }
 ],
 "metadata": {
  "kernelspec": {
   "display_name": "Python 2",
   "language": "python",
   "name": "python2"
  },
  "language_info": {
   "codemirror_mode": {
    "name": "ipython",
    "version": 2.0
   },
   "file_extension": ".py",
   "mimetype": "text/x-python",
   "name": "python",
   "nbconvert_exporter": "python",
   "pygments_lexer": "ipython2",
   "version": "2.7.11"
  },
  "name": "TGA simdata.ipynb"
 },
 "nbformat": 4,
 "nbformat_minor": 0
}